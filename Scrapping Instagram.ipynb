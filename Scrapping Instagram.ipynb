{
 "cells": [
  {
   "cell_type": "markdown",
   "metadata": {},
   "source": [
    "## Import Library"
   ]
  },
  {
   "cell_type": "code",
   "execution_count": null,
   "metadata": {},
   "outputs": [],
   "source": [
    "# !pip install selenium\n",
    "# !pip install wget"
   ]
  },
  {
   "cell_type": "code",
   "execution_count": 1,
   "metadata": {},
   "outputs": [],
   "source": [
    "from selenium import webdriver\n",
    "from selenium.webdriver.common.keys import Keys\n",
    "from selenium.webdriver.support import expected_conditions as EC\n",
    "from selenium.webdriver.common.by import By\n",
    "from selenium.webdriver.support.wait import WebDriverWait\n",
    "from selenium.webdriver.chrome.service import Service\n",
    "from selenium.webdriver.chrome.options import Options\n",
    "import time, urllib.request, requests, random, datetime, pytz\n",
    "import pandas as pd"
   ]
  },
  {
   "cell_type": "markdown",
   "metadata": {},
   "source": [
    "## Jalankan Bot Selenium"
   ]
  },
  {
   "cell_type": "code",
   "execution_count": 14,
   "metadata": {},
   "outputs": [],
   "source": [
    "chrome_driver_path = 'chromedriver.exe'\n",
    "\n",
    "# Configure Chrome options\n",
    "chrome_options = Options()\n",
    "\n",
    "# Initialize the Chrome WebDriver with the options and the service\n",
    "service = Service(chrome_driver_path)\n",
    "driver = webdriver.Chrome(service=service, options=chrome_options)\n",
    "\n",
    "\n",
    "driver.get('https://www.instagram.com/')\n",
    "time.sleep(5)"
   ]
  },
  {
   "cell_type": "markdown",
   "metadata": {},
   "source": [
    "### Masuk ke dalam akun Instagram"
   ]
  },
  {
   "cell_type": "code",
   "execution_count": 15,
   "metadata": {},
   "outputs": [],
   "source": [
    "# Masukkan username dan password untuk login\n",
    "user_input = driver.find_element(By.CSS_SELECTOR, 'input[name=\"username\"]')\n",
    "user_input.send_keys('*****')\n",
    "pass_input = driver.find_element(By.CSS_SELECTOR, 'input[name=\"password\"]')\n",
    "pass_input.send_keys('*****')\n"
   ]
  },
  {
   "cell_type": "code",
   "execution_count": 17,
   "metadata": {},
   "outputs": [],
   "source": [
    "# Arahkan untuk klik tombol login\n",
    "button = driver.find_element(By.CSS_SELECTOR, 'button[type=\"submit\"]').click()"
   ]
  },
  {
   "cell_type": "code",
   "execution_count": 18,
   "metadata": {},
   "outputs": [],
   "source": [
    "# Arahkan untuk tidak menyimpan info login\n",
    "button = driver.find_element(By.CSS_SELECTOR, '.xa49m3k').click()"
   ]
  },
  {
   "cell_type": "code",
   "execution_count": 19,
   "metadata": {},
   "outputs": [],
   "source": [
    "# Arahkan untuk tidak mengaktifkan notification  \n",
    "button = driver.find_element(By.CSS_SELECTOR, '._a9_1').click()"
   ]
  },
  {
   "cell_type": "code",
   "execution_count": 21,
   "metadata": {},
   "outputs": [],
   "source": [
    "# Arahkan akun yang ingin diambil data nya\n",
    "# u = \"https://www.instagram.com/reel/C7iIUybBWsX/?igsh=MXJmeThsdmwxeXk4Zw%3D%3D\"\n",
    "url = \"https://www.instagram.com/reel/C7iIUybBWsX/?igsh=MXJmeThsdmwxeXk4Zw%3D%3D\"\n",
    "driver.get(url)\n",
    "time.sleep(5)"
   ]
  },
  {
   "cell_type": "code",
   "execution_count": 9,
   "metadata": {},
   "outputs": [],
   "source": [
    "# # Mengambil data postingan dari suatu akun\n",
    "# posts = driver.find_elements(By.CSS_SELECTOR, '.x1n2onr6')\n",
    "# col_posts = []\n",
    "# start = 0\n",
    "# end = 10"
   ]
  },
  {
   "cell_type": "code",
   "execution_count": 10,
   "metadata": {},
   "outputs": [],
   "source": [
    "# # Mengambil postingan pertama pada suatu akun\n",
    "# pop_up = posts[0].find_element(By.CSS_SELECTOR, '._aagu')\n",
    "# pop_up.click()\n",
    "# time.sleep(3)"
   ]
  },
  {
   "cell_type": "code",
   "execution_count": 109,
   "metadata": {},
   "outputs": [],
   "source": [
    "# Scroll untuk memuat semua komentar (jika diperlukan)\n",
    "scroll_xpath = '//*[@id=\"mount_0_0_GE\"]/div/div/div[2]/div/div/div[1]/div[1]/div[1]/section/main/div/div[1]/div/div[2]/div/div[2]'\n",
    "last_height = driver.execute_script(\"return document.body.scrollHeight\")\n",
    "\n",
    "while True:\n",
    "    driver.execute_script(\"arguments[0].scrollTop = arguments[0].scrollHeight\", driver.find_element(By.XPATH, scroll_xpath))\n",
    "    time.sleep(20)  # Tunggu beberapa saat agar halaman dimuat\n",
    "    new_height = driver.execute_script(\"return document.body.scrollHeight\")\n",
    "    if new_height == last_height:\n",
    "        break\n",
    "    last_height = new_height\n",
    "\n",
    "comments = driver.find_elements(By.XPATH, '//*[@id=\"mount_0_0_GE\"]/div/div/div[2]/div/div/div[1]/div[1]/div[1]/section/main/div/div[1]/div/div[2]/div/div[2]/div/div[2]')\n",
    "# comments = driver.find_elements(By.CSS_SELECTOR, '.x78zum5.xdt5ytf.x1iyjqo2')\n",
    "\n",
    "user = []\n",
    "komen = []\n",
    "\n",
    "for line_comment in comments:\n",
    "    for i in range(0, 100):\n",
    "        nama = line_comment.find_elements(By.CSS_SELECTOR, '.xt0psk2 div a div div span')\n",
    "        usernames = nama[i].text\n",
    "        komentar = line_comment.find_elements(By.CSS_SELECTOR, '.x9f619.xjbqb8w.x78zum5.x168nmei.x13lgxp2.x5pf9jr.xo71vjh.x1uhb9sk.x1plvlek.xryxfnj.x1c4vz4f.x2lah0s.xdt5ytf.xqjyukv.x1qjc9v5.x1oa3qoh.x1nhvcw1 div:nth-child(1) div div:nth-child(2) div:nth-child(1) div:nth-child(1) div div:nth-child(2) span')\n",
    "        comment = komentar[i].text\n",
    "        komen.append(comment)\n",
    "        user.append(usernames)\n",
    "\n",
    "# Buat DataFrame dari data yang dikumpulkan\n",
    "df_comments = pd.DataFrame({\n",
    "    'username': user,\n",
    "    'comment': komen\n",
    "})\n",
    "\n",
    "# Simpan ke file CSV\n",
    "df_comments.to_csv('instagram_3.csv', index=False)\n"
   ]
  },
  {
   "cell_type": "code",
   "execution_count": 110,
   "metadata": {},
   "outputs": [
    {
     "data": {
      "text/html": [
       "<div>\n",
       "<style scoped>\n",
       "    .dataframe tbody tr th:only-of-type {\n",
       "        vertical-align: middle;\n",
       "    }\n",
       "\n",
       "    .dataframe tbody tr th {\n",
       "        vertical-align: top;\n",
       "    }\n",
       "\n",
       "    .dataframe thead th {\n",
       "        text-align: right;\n",
       "    }\n",
       "</style>\n",
       "<table border=\"1\" class=\"dataframe\">\n",
       "  <thead>\n",
       "    <tr style=\"text-align: right;\">\n",
       "      <th></th>\n",
       "      <th>username</th>\n",
       "      <th>comment</th>\n",
       "    </tr>\n",
       "  </thead>\n",
       "  <tbody>\n",
       "    <tr>\n",
       "      <th>0</th>\n",
       "      <td>canara_idn</td>\n",
       "      <td>Bagaimana yg sudah punya rumah ??</td>\n",
       "    </tr>\n",
       "    <tr>\n",
       "      <th>1</th>\n",
       "      <td>abay_radhen</td>\n",
       "      <td>Sudahlah jgn banyak mengelu terima saja kenyat...</td>\n",
       "    </tr>\n",
       "    <tr>\n",
       "      <th>2</th>\n",
       "      <td>niken_skr96</td>\n",
       "      <td>Capek² kerja buat potongan negara doang😭 dalah...</td>\n",
       "    </tr>\n",
       "    <tr>\n",
       "      <th>3</th>\n",
       "      <td>alber.id</td>\n",
       "      <td>ok gas ok gas.... 😂😂😂</td>\n",
       "    </tr>\n",
       "    <tr>\n",
       "      <th>4</th>\n",
       "      <td>zaqi_165</td>\n",
       "      <td>Umr nya naikin jadi 10 jt potongannya di tamba...</td>\n",
       "    </tr>\n",
       "    <tr>\n",
       "      <th>...</th>\n",
       "      <td>...</td>\n",
       "      <td>...</td>\n",
       "    </tr>\n",
       "    <tr>\n",
       "      <th>145</th>\n",
       "      <td>itsmeniasudin</td>\n",
       "      <td>@windyanisudin_ @rahmisudin_ 😂😂</td>\n",
       "    </tr>\n",
       "    <tr>\n",
       "      <th>146</th>\n",
       "      <td>galih_syailendra</td>\n",
       "      <td>Rakyat bisa apa? Mau protes bagaimana, menolak...</td>\n",
       "    </tr>\n",
       "    <tr>\n",
       "      <th>147</th>\n",
       "      <td>bang_akbar_progressif24</td>\n",
       "      <td>Jogetin aja,, 🤣🤣🤣🤣</td>\n",
       "    </tr>\n",
       "    <tr>\n",
       "      <th>148</th>\n",
       "      <td>vanila.chips2</td>\n",
       "      <td>Yg tau hukum silahkan ajukan gugatan ke MK, ya...</td>\n",
       "    </tr>\n",
       "    <tr>\n",
       "      <th>149</th>\n",
       "      <td>harum.sr</td>\n",
       "      <td>Kl gw mah hitung2 nabung, toh buat gw juga nnt...</td>\n",
       "    </tr>\n",
       "  </tbody>\n",
       "</table>\n",
       "<p>150 rows × 2 columns</p>\n",
       "</div>"
      ],
      "text/plain": [
       "                    username  \\\n",
       "0                 canara_idn   \n",
       "1                abay_radhen   \n",
       "2                niken_skr96   \n",
       "3                   alber.id   \n",
       "4                   zaqi_165   \n",
       "..                       ...   \n",
       "145            itsmeniasudin   \n",
       "146         galih_syailendra   \n",
       "147  bang_akbar_progressif24   \n",
       "148            vanila.chips2   \n",
       "149                 harum.sr   \n",
       "\n",
       "                                               comment  \n",
       "0                    Bagaimana yg sudah punya rumah ??  \n",
       "1    Sudahlah jgn banyak mengelu terima saja kenyat...  \n",
       "2    Capek² kerja buat potongan negara doang😭 dalah...  \n",
       "3                                ok gas ok gas.... 😂😂😂  \n",
       "4    Umr nya naikin jadi 10 jt potongannya di tamba...  \n",
       "..                                                 ...  \n",
       "145                    @windyanisudin_ @rahmisudin_ 😂😂  \n",
       "146  Rakyat bisa apa? Mau protes bagaimana, menolak...  \n",
       "147                                 Jogetin aja,, 🤣🤣🤣🤣  \n",
       "148  Yg tau hukum silahkan ajukan gugatan ke MK, ya...  \n",
       "149  Kl gw mah hitung2 nabung, toh buat gw juga nnt...  \n",
       "\n",
       "[150 rows x 2 columns]"
      ]
     },
     "execution_count": 110,
     "metadata": {},
     "output_type": "execute_result"
    }
   ],
   "source": [
    "df_comments"
   ]
  },
  {
   "cell_type": "code",
   "execution_count": 113,
   "metadata": {},
   "outputs": [],
   "source": [
    "scroll_xpath = '//*[@id=\"mount_0_0_GE\"]/div/div/div[2]/div/div/div[1]/div[1]/div[1]/section/main/div/div[1]/div/div[2]/div/div[2]'\n",
    "last_height = driver.execute_script(\"return document.body.scrollHeight\")\n",
    "\n",
    "user = []\n",
    "komen = []\n",
    "\n",
    "while True:\n",
    "    comments = driver.find_elements(By.XPATH, '//*[@id=\"mount_0_0_GE\"]/div/div/div[2]/div/div/div[1]/div[1]/div[1]/section/main/div/div[1]/div/div[2]/div/div[2]/div/div[2]')\n",
    "    for line_comment in comments:\n",
    "        usernames_elements = line_comment.find_elements(By.CSS_SELECTOR, '.xt0psk2 div a div div span')\n",
    "        comments_elements = line_comment.find_elements(By.CSS_SELECTOR, '.x9f619.xjbqb8w.x78zum5.x168nmei.x13lgxp2.x5pf9jr.xo71vjh.x1uhb9sk.x1plvlek.xryxfnj.x1c4vz4f.x2lah0s.xdt5ytf.xqjyukv.x1qjc9v5.x1oa3qoh.x1nhvcw1 div:nth-child(1) div div:nth-child(2) div:nth-child(1) div:nth-child(1) div div:nth-child(2) span')\n",
    "            \n",
    "        for i in range(min(len(usernames_elements), len(comments_elements))):\n",
    "            usernames = usernames_elements[i].text\n",
    "            comment = comments_elements[i].text\n",
    "            user.append(usernames)\n",
    "            komen.append(comment)\n",
    "\n",
    "\n",
    "    driver.execute_script(\"arguments[0].scrollTop = arguments[0].scrollHeight\", driver.find_element(By.XPATH, scroll_xpath))\n",
    "    time.sleep(40)  # Tunggu beberapa saat agar halaman dimuat\n",
    "    new_height = driver.execute_script(\"return document.body.scrollHeight\")\n",
    "    if new_height == last_height:\n",
    "        break\n",
    "    last_height = new_height\n",
    "\n",
    "# Buat DataFrame dari data yang dikumpulkan\n",
    "df_comments = pd.DataFrame({\n",
    "    'username': user,\n",
    "    'comment': komen\n",
    "})\n",
    "\n",
    "# Simpan ke file CSV\n",
    "df_comments.to_csv('instagram_comments_lengkap.csv', index=False)"
   ]
  },
  {
   "cell_type": "code",
   "execution_count": 114,
   "metadata": {},
   "outputs": [
    {
     "data": {
      "text/html": [
       "<div>\n",
       "<style scoped>\n",
       "    .dataframe tbody tr th:only-of-type {\n",
       "        vertical-align: middle;\n",
       "    }\n",
       "\n",
       "    .dataframe tbody tr th {\n",
       "        vertical-align: top;\n",
       "    }\n",
       "\n",
       "    .dataframe thead th {\n",
       "        text-align: right;\n",
       "    }\n",
       "</style>\n",
       "<table border=\"1\" class=\"dataframe\">\n",
       "  <thead>\n",
       "    <tr style=\"text-align: right;\">\n",
       "      <th></th>\n",
       "      <th>username</th>\n",
       "      <th>comment</th>\n",
       "    </tr>\n",
       "  </thead>\n",
       "  <tbody>\n",
       "    <tr>\n",
       "      <th>0</th>\n",
       "      <td>kristinap_sirait03</td>\n",
       "      <td>BELAJAR DARI KASUS ASABRI GUYS🤣🤣🤣 MASYARAKAT I...</td>\n",
       "    </tr>\n",
       "    <tr>\n",
       "      <th>1</th>\n",
       "      <td>sata.sata.520357</td>\n",
       "      <td>Mana pendukung 02 pasti bangga bakal punya rum...</td>\n",
       "    </tr>\n",
       "    <tr>\n",
       "      <th>2</th>\n",
       "      <td>cep_emin</td>\n",
       "      <td>Kalau gaji aggota DPR yg \"kerjanya demi rakyat...</td>\n",
       "    </tr>\n",
       "    <tr>\n",
       "      <th>3</th>\n",
       "      <td>nienathalib_mua</td>\n",
       "      <td>Selamat buat pemilih 02 yg mau melanjutkan pro...</td>\n",
       "    </tr>\n",
       "    <tr>\n",
       "      <th>4</th>\n",
       "      <td>slmarief</td>\n",
       "      <td>Tapera- tabungan peras rakyat</td>\n",
       "    </tr>\n",
       "    <tr>\n",
       "      <th>...</th>\n",
       "      <td>...</td>\n",
       "      <td>...</td>\n",
       "    </tr>\n",
       "    <tr>\n",
       "      <th>366</th>\n",
       "      <td>robbycentral_</td>\n",
       "      <td>akal akalan mreka mencari uang untuk ikn.</td>\n",
       "    </tr>\n",
       "    <tr>\n",
       "      <th>367</th>\n",
       "      <td>m.taufiq.akbar</td>\n",
       "      <td>Wahai para pejabat pemerintah, inget di dunia ...</td>\n",
       "    </tr>\n",
       "    <tr>\n",
       "      <th>368</th>\n",
       "      <td>bismoet</td>\n",
       "      <td>Pak dri gaji yg dihasilkan masih cukup gk cuku...</td>\n",
       "    </tr>\n",
       "    <tr>\n",
       "      <th>369</th>\n",
       "      <td>peraapoy</td>\n",
       "      <td>Kalau bisa mah ada dana mending pindah negara</td>\n",
       "    </tr>\n",
       "    <tr>\n",
       "      <th>370</th>\n",
       "      <td>reymarsaragi</td>\n",
       "      <td>Udh ga bener nih presiden, KL PNS dll msh mend...</td>\n",
       "    </tr>\n",
       "  </tbody>\n",
       "</table>\n",
       "<p>371 rows × 2 columns</p>\n",
       "</div>"
      ],
      "text/plain": [
       "               username                                            comment\n",
       "0    kristinap_sirait03  BELAJAR DARI KASUS ASABRI GUYS🤣🤣🤣 MASYARAKAT I...\n",
       "1      sata.sata.520357  Mana pendukung 02 pasti bangga bakal punya rum...\n",
       "2              cep_emin  Kalau gaji aggota DPR yg \"kerjanya demi rakyat...\n",
       "3       nienathalib_mua  Selamat buat pemilih 02 yg mau melanjutkan pro...\n",
       "4              slmarief                      Tapera- tabungan peras rakyat\n",
       "..                  ...                                                ...\n",
       "366       robbycentral_          akal akalan mreka mencari uang untuk ikn.\n",
       "367      m.taufiq.akbar  Wahai para pejabat pemerintah, inget di dunia ...\n",
       "368             bismoet  Pak dri gaji yg dihasilkan masih cukup gk cuku...\n",
       "369            peraapoy      Kalau bisa mah ada dana mending pindah negara\n",
       "370        reymarsaragi  Udh ga bener nih presiden, KL PNS dll msh mend...\n",
       "\n",
       "[371 rows x 2 columns]"
      ]
     },
     "execution_count": 114,
     "metadata": {},
     "output_type": "execute_result"
    }
   ],
   "source": [
    "df_comments"
   ]
  }
 ],
 "metadata": {
  "kernelspec": {
   "display_name": "Python 3",
   "language": "python",
   "name": "python3"
  },
  "language_info": {
   "codemirror_mode": {
    "name": "ipython",
    "version": 3
   },
   "file_extension": ".py",
   "mimetype": "text/x-python",
   "name": "python",
   "nbconvert_exporter": "python",
   "pygments_lexer": "ipython3",
   "version": "3.9.13"
  }
 },
 "nbformat": 4,
 "nbformat_minor": 2
}
